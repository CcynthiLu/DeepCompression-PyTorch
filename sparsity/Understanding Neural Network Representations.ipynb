{
 "cells": [
  {
   "cell_type": "markdown",
   "metadata": {},
   "source": [
    "# Understanding Representations of Feed Forward Neural Networks \n",
    "\n",
    "Traditionally, neural networks are introduced with the following pictures. A \"neuron\" is represented as:\n",
    "\n",
    "<picture>\n",
    "\n",
    "The `x` value represents inputs, `w` are the weights and then we have some activation function and an additive bias. The neural network thus has `n` inputs, which are multiplied by `n` weights and incremented by a bias - one bias for each input. We pass the value of this through an activation function, and the output of that activation is the output of our neuron. Each neuron thus has exactly **one** output.   \n",
    "\n",
    "A layer is a set of these neurons stacked on top of each other. A network is a set of these layers stacked on top of each other, usually depicted by something resembling the following:\n",
    "\n",
    "<picture>\n",
    "\n",
    "It's not hard to see that we can represent the weights of a layer as a vector, and intuitive to extend this to a matrix of all of the weight vectors representing the entire layer. \n",
    "\n",
    "But somewhere in the middle of this theoretical implementation and practical implementations in deep learning frameworks this intuitive explanation gets lost. The idea of a \"neuron\" is sort of thrown away; instead of describing a neural network as:\n",
    "\n",
    "    layer with 5 neurons -> layer with 15 neurons -> layer with 2 neurons\n",
    "\n",
    "We usually end up writing something more like:\n",
    "    \n",
    "    layer 5 inputs, 15 outputs -> layer with 15 inputs, 2 outputs -> layer with 2 inputs, 2 outputs\n",
    "    \n",
    "\n",
    "But hang on. "
   ]
  },
  {
   "cell_type": "code",
   "execution_count": null,
   "metadata": {
    "collapsed": true
   },
   "outputs": [],
   "source": []
  }
 ],
 "metadata": {
  "kernelspec": {
   "display_name": "Python 3",
   "language": "python",
   "name": "python3"
  },
  "language_info": {
   "codemirror_mode": {
    "name": "ipython",
    "version": 3
   },
   "file_extension": ".py",
   "mimetype": "text/x-python",
   "name": "python",
   "nbconvert_exporter": "python",
   "pygments_lexer": "ipython3",
   "version": "3.6.2"
  }
 },
 "nbformat": 4,
 "nbformat_minor": 2
}
