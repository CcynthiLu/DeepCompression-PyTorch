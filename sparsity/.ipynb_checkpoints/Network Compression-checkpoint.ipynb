{
 "cells": [
  {
   "cell_type": "markdown",
   "metadata": {},
   "source": [
    "# Learning Weights and Connections Implementation \n",
    "\n",
    "Since the Learning Weights paper is very low on details I'll be cross-referencing these three papers:\n",
    "1. Learning both weights and connections: https://arxiv.org/abs/1510.00149 \n",
    "2. Deep Compression: https://arxiv.org/abs/1506.02626\n",
    "3. DenseSparseDense: https://arxiv.org/abs/1607.04381\n",
    "\n",
    "The pruning process is:\n",
    "    1. Train the model normally\n",
    "    2. Loop through all the layers and prune connections under a certain threshold\n",
    "    3. Retrain\n",
    "    4. Go back to step 2 until accuracy decreases\n",
    "    \n",
    "In paper (2) they say that they choose the threshold by multiplying a \"quality parameter\" by the standard deviation of the layer's weights. Not sure what the quality parameter is but this implies that pruning is done layer by layer, rather than just by saying \"remove 90% of the weights in the network\". EDIT: I read another paper, DenseSparseDense where they use a Taylor expansion of the error to estimate the cost of pruning certain weights - I'm pretty certain this is what they mean by quality parameter.\n",
    "\n",
    "We'll start with LeNet-5 because it doesn't have anything too fancy going on. I'm pretty sure this won't be too hard to extend to other layers like BatchNorm, but I'm not entirely what we do to e.g. the gamma/beta params BatchNorm learns. \n",
    "\n",
    "\n",
    "To do list:\n",
    "1. Write calculation for layer sparsity ratio\n",
    "2. Check pruning on conv layers\n",
    "3. Do Le-Net example\n",
    "4. Extend pruning to BatchNorm\n",
    "5. Do MobiLeNet\n",
    "6. Figure out how to automate pruning process"
   ]
  },
  {
   "cell_type": "markdown",
   "metadata": {
    "heading_collapsed": true
   },
   "source": [
    "## Setup stuff"
   ]
  },
  {
   "cell_type": "code",
   "execution_count": 1,
   "metadata": {
    "ExecuteTime": {
     "end_time": "2017-12-11T15:06:44.699489Z",
     "start_time": "2017-12-11T15:06:44.580003Z"
    },
    "code_folding": [],
    "hidden": true
   },
   "outputs": [],
   "source": [
    "# Thanks to https://github.com/kuangliu/pytorch-cifar/blob/master/models/lenet.py\n",
    "\n",
    "import torch.nn as nn\n",
    "import torch.nn.functional as F\n",
    "\n",
    "class LeNet(nn.Module):\n",
    "    def __init__(self):\n",
    "        super(LeNet, self).__init__()\n",
    "        self.conv1 = nn.Conv2d(3, 6, 5)\n",
    "        self.conv2 = nn.Conv2d(6, 16, 5)\n",
    "        self.fc1   = nn.Linear(16*5*5, 120)\n",
    "        self.fc2   = nn.Linear(120, 84)\n",
    "        self.fc3   = nn.Linear(84, 10)\n",
    "\n",
    "    def forward(self, x):\n",
    "        out = F.relu(self.conv1(x))\n",
    "        out = F.max_pool2d(out, 2)\n",
    "        out = F.relu(self.conv2(out))\n",
    "        out = F.max_pool2d(out, 2)\n",
    "        out = out.view(out.size(0), -1)\n",
    "        out = F.relu(self.fc1(out))\n",
    "        out = F.relu(self.fc2(out))\n",
    "        out = self.fc3(out)\n",
    "        return out"
   ]
  },
  {
   "cell_type": "markdown",
   "metadata": {
    "hidden": true
   },
   "source": [
    "Since we're doing this in a notebook, let's load some pretrained weights. I trained this Le-Net model over 150 epochs (probably overkill) using SGD and a decaying learning rate of 0.1 with exponential decay. Batch Size 100 and L2 regularisation (decay=1e-4)."
   ]
  },
  {
   "cell_type": "code",
   "execution_count": 2,
   "metadata": {
    "ExecuteTime": {
     "end_time": "2017-12-11T15:06:47.282550Z",
     "start_time": "2017-12-11T15:06:47.259425Z"
    },
    "hidden": true
   },
   "outputs": [
    {
     "name": "stdout",
     "output_type": "stream",
     "text": [
      "Checkpoint loaded with best_acc:  72.13\n"
     ]
    }
   ],
   "source": [
    "import torch\n",
    "\n",
    "import torch.optim as optim\n",
    "from torch.autograd import Variable\n",
    "\n",
    "import numpy as np\n",
    "\n",
    "use_cuda=False\n",
    "\n",
    "model_name, model_wts = 'LeNet', LeNet()\n",
    "\n",
    "filename = './ckpt_' + model_name + '.t7'\n",
    "checkpoint = torch.load(filename, map_location=lambda storage, loc: storage)\n",
    "\n",
    "best_acc = checkpoint['acc']\n",
    "\n",
    "# Hacky fix for weird load_state_dict error, sorry.\n",
    "state_dict = checkpoint['model']\n",
    "# create new OrderedDict that does not contain `module.`\n",
    "from collections import OrderedDict\n",
    "new_state_dict = OrderedDict()\n",
    "for k, v in state_dict.items():\n",
    "    name = k[7:] # remove `module.`\n",
    "    new_state_dict[name] = v\n",
    "\n",
    "# load params\n",
    "model_wts.load_state_dict(new_state_dict)\n",
    "model_name = model_name + 'dc'\n",
    "\n",
    "print(\"Checkpoint loaded with best_acc: \", best_acc)\n"
   ]
  },
  {
   "cell_type": "code",
   "execution_count": 3,
   "metadata": {
    "ExecuteTime": {
     "end_time": "2017-12-11T15:06:51.488357Z",
     "start_time": "2017-12-11T15:06:49.618919Z"
    },
    "hidden": true
   },
   "outputs": [
    {
     "name": "stdout",
     "output_type": "stream",
     "text": [
      "==> Preparing data..\n",
      "Files already downloaded and verified\n",
      "Files already downloaded and verified\n"
     ]
    }
   ],
   "source": [
    "import torchvision\n",
    "import torchvision.transforms as transforms\n",
    "\n",
    "print('==> Preparing data..')\n",
    "transform_train = transforms.Compose([\n",
    "    transforms.RandomCrop(32, padding=4),\n",
    "    transforms.RandomHorizontalFlip(),\n",
    "    transforms.ToTensor(),\n",
    "    transforms.Normalize((0.4914, 0.4822, 0.4465), (0.2023, 0.1994, 0.2010)),\n",
    "])\n",
    "\n",
    "transform_test = transforms.Compose([\n",
    "    transforms.ToTensor(),\n",
    "    transforms.Normalize((0.4914, 0.4822, 0.4465), (0.2023, 0.1994, 0.2010)),\n",
    "])\n",
    "\n",
    "trainset = torchvision.datasets.CIFAR10(root='./data', train=True, download=True, transform=transform_train)\n",
    "trainloader = torch.utils.data.DataLoader(trainset, batch_size=100, shuffle=True, num_workers=2)\n",
    "\n",
    "testset = torchvision.datasets.CIFAR10(root='./data', train=False, download=True, transform=transform_test)\n",
    "testloader = torch.utils.data.DataLoader(testset, batch_size=100, shuffle=False, num_workers=2)\n",
    "\n",
    "classes = ('plane', 'car', 'bird', 'cat', 'deer', 'dog', 'frog', 'horse', 'ship', 'truck')\n",
    "\n",
    "\n",
    "\n",
    "# Training\n",
    "def train(model_name, model, epoch, optimizer):\n",
    "    if use_cuda:\n",
    "        model.cuda()\n",
    "        model = torch.nn.DataParallel(model, device_ids=range(torch.cuda.device_count()))\n",
    "        cudnn.benchmark = True\n",
    "    print('\\nEpoch: %d' % epoch)\n",
    "    model.train()\n",
    "    train_loss = 0\n",
    "    correct = 0\n",
    "    total = 0\n",
    "    for batch_idx, (inputs, targets) in enumerate(trainloader):\n",
    "        if use_cuda:\n",
    "            inputs, targets = inputs.cuda(), targets.cuda()\n",
    "        optimizer.zero_grad()\n",
    "        inputs, targets = Variable(inputs), Variable(targets)\n",
    "        outputs = model(inputs)\n",
    "        loss = criterion(outputs, targets)\n",
    "        loss.backward()\n",
    "        optimizer.step()\n",
    "\n",
    "        train_loss += loss.data[0]\n",
    "        \n",
    "        _, predicted = torch.max(outputs.data, 1)\n",
    "        total   += targets.size(0)\n",
    "        correct += predicted.eq(targets.data).cpu().sum()\n",
    "        \n",
    "    print( 'Epoch: ', epoch, ' | Loss: ', (train_loss/(batch_idx+1)), ' | Acc: ', 100.*correct/total)\n",
    "\n",
    "        \n",
    "        \n",
    "def test(model_name, model):\n",
    "    #model_name, model = model[0], model[1]\n",
    "    if use_cuda:\n",
    "        model.cuda()\n",
    "        model = torch.nn.DataParallel(model, device_ids=range(torch.cuda.device_count()))\n",
    "        cudnn.benchmark = True\n",
    "    global best_acc\n",
    "    model.eval()\n",
    "    test_loss = 0\n",
    "    correct = 0\n",
    "    total = 0\n",
    "    for batch_idx, (inputs, targets) in enumerate(testloader):\n",
    "        if use_cuda:\n",
    "            inputs, targets = inputs.cuda(), targets.cuda()\n",
    "        inputs, targets = Variable(inputs, volatile=True), Variable(targets)\n",
    "        outputs = model(inputs)\n",
    "        loss = criterion(outputs, targets)\n",
    "\n",
    "        test_loss += loss.data[0]\n",
    "        \n",
    "        _, predicted = torch.max(outputs.data, 1)\n",
    "        total += targets.size(0)\n",
    "        correct += predicted.eq(targets.data).cpu().sum()\n",
    "\n",
    "    print( 'Test:  | Loss: ', (test_loss/(batch_idx+1)), ' | Acc: ', 100.*correct/total)\n",
    "        \n",
    "        \n",
    "def retrain(model_name, model, optimizer, retraining_epochs, scheduler):\n",
    "    for epoch in range(0, retraining_epochs):\n",
    "        train(model_name, model, epoch, optimizer)\n",
    "        test(model_name, model)\n",
    "    return model"
   ]
  },
  {
   "cell_type": "markdown",
   "metadata": {
    "heading_collapsed": true
   },
   "source": [
    "## What do the weights look like before sparsifying?"
   ]
  },
  {
   "cell_type": "markdown",
   "metadata": {
    "hidden": true
   },
   "source": [
    "First let's think about how the neural network gets represented by tensors.  \n",
    "\n",
    "As a reminder of the LeNet architecture:\n",
    "\n",
    "    conv1 = Conv2d(3, 6, 5)  \n",
    "    conv2 = Conv2d(6, 16, 5)  \n",
    "    fc1   = Linear(400, 120)  \n",
    "    fc2   = Linear(120, 84)  \n",
    "    fc3   = Linear(84, 10)  \n",
    "\n",
    "So for example, `conv1` has 3 input channels, 6 output channels and uses 5 by 5 filters. Therefore the layer.parameters() for `conv1` has shape `[6, 3, 5, 5]` (I think). Let's verify:"
   ]
  },
  {
   "cell_type": "code",
   "execution_count": 4,
   "metadata": {
    "ExecuteTime": {
     "end_time": "2017-12-11T15:05:33.994122Z",
     "start_time": "2017-12-11T15:05:33.985257Z"
    },
    "hidden": true
   },
   "outputs": [
    {
     "name": "stdout",
     "output_type": "stream",
     "text": [
      "1 -> Conv2d (3, 6, kernel_size=(5, 5), stride=(1, 1))\n",
      "weight -> torch.Size([6, 3, 5, 5])\n",
      "bias -> torch.Size([6])\n",
      "\n",
      "\n",
      "\n",
      "\n",
      "2 -> Conv2d (6, 16, kernel_size=(5, 5), stride=(1, 1))\n",
      "weight -> torch.Size([16, 6, 5, 5])\n",
      "bias -> torch.Size([16])\n",
      "\n",
      "\n",
      "\n",
      "\n",
      "3 -> Linear(in_features=400, out_features=120)\n",
      "weight -> torch.Size([120, 400])\n",
      "bias -> torch.Size([120])\n",
      "\n",
      "\n",
      "\n",
      "\n",
      "4 -> Linear(in_features=120, out_features=84)\n",
      "weight -> torch.Size([84, 120])\n",
      "bias -> torch.Size([84])\n",
      "\n",
      "\n",
      "\n",
      "\n",
      "5 -> Linear(in_features=84, out_features=10)\n",
      "weight -> torch.Size([10, 84])\n",
      "bias -> torch.Size([10])\n",
      "\n",
      "\n",
      "\n",
      "\n"
     ]
    }
   ],
   "source": [
    "for idx, m in enumerate(model_wts.modules()):\n",
    "    if idx > 0: # ignore the first module - contains all the layers\n",
    "        print(idx, '->', m)\n",
    "        for name, param in m.named_parameters():\n",
    "            print(name, '->', param.data.shape)\n",
    "        print('\\n\\n\\n')"
   ]
  },
  {
   "cell_type": "markdown",
   "metadata": {
    "hidden": true
   },
   "source": [
    "Now we do a little bit of investigation into what the weights actually look like. We used L2 regularisation (as per the paper) during training so they *should* gather around zero. \n"
   ]
  },
  {
   "cell_type": "code",
   "execution_count": 4,
   "metadata": {
    "ExecuteTime": {
     "end_time": "2017-12-11T15:07:03.528842Z",
     "start_time": "2017-12-11T15:07:02.061110Z"
    },
    "hidden": true,
    "scrolled": true
   },
   "outputs": [
    {
     "data": {
      "image/png": "[encoded data removed]",
      "text/plain": [
       "<matplotlib.figure.Figure at 0x7f505f8a2160>"
      ]
     },
     "metadata": {},
     "output_type": "display_data"
    },
    {
     "data": {
      "image/png": "[encoded data removed]",
      "text/plain": [
       "<matplotlib.figure.Figure at 0x7f505b7c0978>"
      ]
     },
     "metadata": {},
     "output_type": "display_data"
    },
    {
     "data": {
      "image/png": "[encoded data removed]",
      "text/plain": [
       "<matplotlib.figure.Figure at 0x7f505b701400>"
      ]
     },
     "metadata": {},
     "output_type": "display_data"
    },
    {
     "data": {
      "image/png": "[encoded data removed]",
      "text/plain": [
       "<matplotlib.figure.Figure at 0x7f505b62a320>"
      ]
     },
     "metadata": {},
     "output_type": "display_data"
    },
    {
     "data": {
      "image/png": "[encoded data removed]",
      "text/plain": [
       "<matplotlib.figure.Figure at 0x7f505b67a470>"
      ]
     },
     "metadata": {},
     "output_type": "display_data"
    },
    {
     "data": {
      "image/png": "[encoded data removed]",
      "text/plain": [
       "<matplotlib.figure.Figure at 0x7f505b4f8da0>"
      ]
     },
     "metadata": {},
     "output_type": "display_data"
    },
    {
     "data": {
      "image/png": "[encoded data removed]",
      "text/plain": [
       "<matplotlib.figure.Figure at 0x7f505b42e198>"
      ]
     },
     "metadata": {},
     "output_type": "display_data"
    },
    {
     "data": {
      "image/png": "[encoded data removed]",
      "text/plain": [
       "<matplotlib.figure.Figure at 0x7f505b3d2b38>"
      ]
     },
     "metadata": {},
     "output_type": "display_data"
    },
    {
     "data": {
      "image/png": "[encoded data removed]",
      "text/plain": [
       "<matplotlib.figure.Figure at 0x7f505b2fbdd8>"
      ]
     },
     "metadata": {},
     "output_type": "display_data"
    },
    {
     "data": {
      "image/png": "[encoded data removed]",
      "text/plain": [
       "<matplotlib.figure.Figure at 0x7f505b230828>"
      ]
     },
     "metadata": {},
     "output_type": "display_data"
    }
   ],
   "source": [
    "model = model_wts\n",
    "\n",
    "\n",
    "import matplotlib.pyplot as plt\n",
    "%matplotlib inline\n",
    "plt.style.use('ggplot')\n",
    "\n",
    "def plot_param_histogram(param, name, fig_size=(6, 3), interval=[-1.5, 1.5]):\n",
    "    \"\"\"Plots a normalised histogram of an array of parameter values.\"\"\"\n",
    "    \n",
    "    # convert the param to numpy for plotting \n",
    "    param = param.data.numpy()\n",
    "    \n",
    "    fig = plt.figure(figsize=fig_size)\n",
    "    ax = fig.add_subplot(111)\n",
    "    ax.hist(param.flatten(), 50, interval, normed=True)\n",
    "    ax.set_title(name)\n",
    "    ax.set_xlabel('Parameter value')\n",
    "    ax.set_ylabel('Normalised frequency density')\n",
    "    return fig, ax\n",
    "    \n",
    "    \n",
    "'''\n",
    "In PyTorch, calling model.modules() returns a generator over all of the modules in the network.\n",
    "The first of these is the model itself, containing all of the layers, and the rest contain the layers individually.\n",
    "This means that if we just take the first module and iterate over its parameters, this is equivalent to iterating\n",
    "over the layers.\n",
    "'''\n",
    "\n",
    "def plot_histograms(model):\n",
    "    for idx, m in enumerate(model.modules()):\n",
    "        if (idx == 0):\n",
    "            #print(idx, '->', m)\n",
    "            for name, param in m.named_parameters():\n",
    "                #print(\"LAYER: \", name)\n",
    "                #print(\"\\tMean: \", torch.mean(param.data))\n",
    "                #print(\"\\tVar:  \", torch.var(param.data))\n",
    "                #print(\"\\tStd:  \", torch.std(param.data),'\\n')\n",
    "                plot_param_histogram(param, name)\n",
    "        \n",
    "    \n",
    "plot_histograms(model)"
   ]
  },
  {
   "cell_type": "markdown",
   "metadata": {
    "hidden": true
   },
   "source": [
    "Cool!\n",
    "\n",
    "So now we have a way to iterate over the layers and we know what they looked like before pruning, lets try iteratively removing small weights.\n",
    "\n",
    "    \n",
    "I'm still not really sure what the \"quality parameter\" Han mentions is:\n",
    "\n",
    "*\"the pruning threshold is chosen as a quality parameter multiplied by the standard deviation of a layer’s weights.\"*\n",
    "\n",
    "So I'm just going to do a bunch of experiments and see what works. I wonder if Han found a way to quantify the effect that pruning would have on (the quality of the network) accuracy.  \n"
   ]
  },
  {
   "cell_type": "markdown",
   "metadata": {
    "heading_collapsed": true
   },
   "source": [
    "## Benchmarking Inference Time: Before Pruning \n"
   ]
  },
  {
   "cell_type": "markdown",
   "metadata": {
    "hidden": true
   },
   "source": [
    "Let's take a look at accuracy and inference time over the test set. Mine takes 1.62s and gets ~72% accuracy. "
   ]
  },
  {
   "cell_type": "code",
   "execution_count": 5,
   "metadata": {
    "ExecuteTime": {
     "end_time": "2017-12-11T15:07:21.560218Z",
     "start_time": "2017-12-11T15:07:08.587038Z"
    },
    "hidden": true
   },
   "outputs": [
    {
     "name": "stdout",
     "output_type": "stream",
     "text": [
      "Test:  | Loss:  0.8150327754020691  | Acc:  72.13\n"
     ]
    }
   ],
   "source": [
    "criterion = nn.CrossEntropyLoss()\n",
    "test(model_name, model_wts)"
   ]
  },
  {
   "cell_type": "markdown",
   "metadata": {},
   "source": [
    "## Pruning weights"
   ]
  },
  {
   "cell_type": "code",
   "execution_count": null,
   "metadata": {
    "ExecuteTime": {
     "start_time": "2017-12-11T15:08:01.916Z"
    },
    "scrolled": true
   },
   "outputs": [
    {
     "name": "stdout",
     "output_type": "stream",
     "text": [
      "\n",
      "Epoch: 0\n",
      "Epoch:  0  | Loss:  0.8435593745708465  | Acc:  69.922\n",
      "Test:  | Loss:  0.8192977488040925  | Acc:  71.53\n",
      "\n",
      "Epoch: 1\n",
      "Epoch:  1  | Loss:  0.8456484500169754  | Acc:  70.096\n",
      "Test:  | Loss:  0.8184812927246093  | Acc:  71.89\n",
      "\n",
      "Epoch: 2\n",
      "Epoch:  2  | Loss:  0.851407410979271  | Acc:  69.864\n",
      "Test:  | Loss:  0.8135306769609452  | Acc:  71.59\n",
      "\n",
      "Epoch: 3\n",
      "Epoch:  3  | Loss:  0.8433362791538238  | Acc:  70.086\n",
      "Test:  | Loss:  0.8210310798883438  | Acc:  71.55\n",
      "\n",
      "Epoch: 4\n",
      "Epoch:  4  | Loss:  0.8440133638381958  | Acc:  70.012\n",
      "Test:  | Loss:  0.8180043643712998  | Acc:  71.5\n",
      "\n",
      "Epoch: 5\n"
     ]
    }
   ],
   "source": [
    "def calculate_threshold(weights, ratio):\n",
    "    return np.percentile(np.array(torch.abs(weights)), ratio)\n",
    "\n",
    "\n",
    "def sparsify(model, threshold=0.02):\n",
    "    for name, param in model.named_parameters():\n",
    "        if 'weight' in name:\n",
    "            param.data = (param * torch.gt(torch.abs(param), 0.02).float()).data\n",
    "    return model\n",
    "\n",
    "\n",
    "\n",
    "# Set some hyperparameters\n",
    "quality_param     = 0.\n",
    "retraining_epochs = 10\n",
    "learning_rate     = 0.1 \n",
    "threshold         = 30.\n",
    "\n",
    "model_wts = sparsify(model_wts)\n",
    "\n",
    "criterion = nn.CrossEntropyLoss()\n",
    "optimizer = optim.SGD(model_wts.parameters(), lr=0.001, momentum=0.9, weight_decay=5e-4)\n",
    "scheduler = optim.lr_scheduler.ReduceLROnPlateau(optimizer)\n",
    "\n",
    "model_wts = retrain(model_name, model_wts, optimizer, retraining_epochs, scheduler)\n"
   ]
  },
  {
   "cell_type": "markdown",
   "metadata": {
    "heading_collapsed": true
   },
   "source": [
    "## Pruning nodes"
   ]
  },
  {
   "cell_type": "markdown",
   "metadata": {
    "hidden": true
   },
   "source": [
    "In `conv1` the `6` in `[6, 3, 5, 5]` represents the fact that we have 6 kernels/filters. I suppose we could attempt to reduce the filter sizes (i.e. if the edges of a 5 by 5 filter are close to zero or zero, we could swap it out for a 3 by 3 filter), but for now I'll just ignore this. The only number we're interested in iterating over is the 6 so we'll just go in a for loop, calculating whether or not the node can be pruned:\n",
    "\n",
    "\n",
    "    for kernel in layer:\n",
    "        if torch.sum(kernel) == 0.:\n",
    "            layer = remove(kernel, layer)\n",
    "\n",
    "\n",
    "Note that any time we remove a kernel, we also need to remove the bias associated with it.\n",
    "  \n",
    "  \n",
    "Now let's think about fully connected layers. `fc1` is of shape `[120, 400]`. This means there are 400 incoming connections and 120 outgoing connections. Remember that the last convolutional layer outputs 16 feature maps using 5 b 5 filters, and that these get flattened (into 400 neurons). So all we have to do is iterate over the neurons and remove any that are zero. \n",
    "\n",
    "\n",
    "    for neuron in layer:\n",
    "        if torch.sum(neuron) == 0.:\n",
    "            layer = remove(neuron, layer)\n",
    "\n",
    "\n",
    "We also need to keep track of how many neurons we remove from each layer so we know how many inputs the next layer has. This implies that we need to prune all the layers one by one and construct new layers right at the end.\n",
    "\n",
    "It's probably worth putting some visuals in here."
   ]
  },
  {
   "cell_type": "code",
   "execution_count": 69,
   "metadata": {
    "ExecuteTime": {
     "end_time": "2017-12-11T14:27:50.183768Z",
     "start_time": "2017-12-11T14:27:50.108715Z"
    },
    "hidden": true
   },
   "outputs": [],
   "source": [
    "def prune_nodes(layer):\n",
    "    \n",
    "    pruned_weights = []\n",
    "    prune_bias     = []\n",
    "    pruned_indices = []\n",
    "    \n",
    "    weights = layer.weight.data\n",
    "    biases  = layer.bias.data\n",
    "    \n",
    "    for idx, w in enumerate(weights):\n",
    "        if torch.sum(w) == 0.:\n",
    "            # These could be compressed into one, but for clarity we will leave them separate.\n",
    "            prune_bias.append(True)\n",
    "            pruned_indices.append(idx)      \n",
    "        else:\n",
    "            pruned_weights.append(w.numpy())\n",
    "            prune_bias.append(False)\n",
    "    \n",
    "    new_biases = []\n",
    "    \n",
    "    for b, prune in zip(biases, prune_bias):\n",
    "        if not prune:\n",
    "            new_biases.append(b)\n",
    "            \n",
    "    \n",
    "    num_outputs  = len(pruned_weights)\n",
    "    \n",
    "    # This operation will fail if there are no biases (i.e. ALL of our neurons have been pruned). \n",
    "    # Need to think about appropriate way to handle this ... may be the case that we can prune the entire layer?\n",
    "    new_biases   = torch.from_numpy(np.array(new_biases).T)\n",
    "    new_weights  = torch.from_numpy(np.array(pruned_weights))\n",
    "    \n",
    "    return num_outputs, new_weights, new_biases, pruned_indices\n",
    "\n",
    "\n",
    "def prune_inputs(layer, indices_to_prune):\n",
    "    \n",
    "    weights   = layer.weight.data\n",
    "\n",
    "    pruned_weights = []\n",
    "    \n",
    "    for weight in weights:\n",
    "        new_weight_vector = []\n",
    "        \n",
    "        # loop over the weights in the vector. if they need to be pruned then don't add them to new vector\n",
    "        for idx, elem in enumerate(weight):\n",
    "            if idx not in indices_to_prune:\n",
    "                new_weight_vector.append(elem)\n",
    "                                        \n",
    "        pruned_weights.append(new_weight_vector)\n",
    "    \n",
    "    \n",
    "    pruned_weights = torch.from_numpy(np.array(pruned_weights))\n",
    "    \n",
    "    layer.weight.data = pruned_weights\n",
    "    \n",
    "    return layer"
   ]
  },
  {
   "cell_type": "markdown",
   "metadata": {
    "heading_collapsed": true
   },
   "source": [
    "## Example: Pruning LeNet"
   ]
  },
  {
   "cell_type": "markdown",
   "metadata": {
    "hidden": true
   },
   "source": [
    "            self.conv1 = nn.Conv2d(3, 6, 5)\n",
    "            self.conv2 = nn.Conv2d(6, 16, 5)\n",
    "            self.fc1   = nn.Linear(16*5*5, 120)\n",
    "            self.fc2   = nn.Linear(120, 84)\n",
    "            self.fc3   = nn.Linear(84, 10)"
   ]
  },
  {
   "cell_type": "code",
   "execution_count": 83,
   "metadata": {
    "ExecuteTime": {
     "end_time": "2017-12-11T15:02:13.787086Z",
     "start_time": "2017-12-11T15:02:13.627277Z"
    },
    "hidden": true
   },
   "outputs": [],
   "source": [
    "model = model_wts\n",
    "\n",
    "def get_layer(index, model):\n",
    "    for idx, m in enumerate(model.modules()):\n",
    "        if (idx == index):\n",
    "            return m\n",
    "\n",
    "# If we subclass original LeNet we should be able to use the same 'forward' method\n",
    "class LeNet2(LeNet):\n",
    "    def __init__(self, conv1, conv2, fc1, fc2, fc3):\n",
    "        super(LeNet2, self).__init__()\n",
    "        self.conv1 = conv1\n",
    "        self.conv2 = conv2\n",
    "        self.fc1   = fc1\n",
    "        self.fc2   = fc2\n",
    "        self.fc3   = fc3\n",
    "\n",
    "\n",
    "def prune_lenet(model):\n",
    "    \n",
    "    # We don't want to prune the input layer\n",
    "    \n",
    "    conv1 = get_layer(1, model)\n",
    "    conv2 = get_layer(2, model)\n",
    "    fc1   = get_layer(3, model)\n",
    "    fc2   = get_layer(4, model)\n",
    "    fc3   = get_layer(5, model)\n",
    "    \n",
    "    \n",
    "    # Fortunately for us the kernel size is fixed\n",
    "    kernel_size = 5\n",
    "    \n",
    "    ''' CONV 1 '''\n",
    "    conv1_c = conv1\n",
    "    num_outputs = conv1_c.weight.data.shape[0]\n",
    "    \n",
    "    \n",
    "    ''' CONV 2 '''\n",
    "    num_inputs  = num_outputs\n",
    "    num_outputs, new_weights, new_biases, pruned_indices = prune_nodes(conv2)\n",
    "    \n",
    "    conv2_c     = nn.Conv2d(num_inputs, num_outputs, kernel_size)\n",
    "    conv2_c.weight.data = new_weights\n",
    "    conv2_c.bias.data   = new_biases\n",
    "    \n",
    "    \n",
    "    # need to do something fancy to the pruned_indices to translate it to fc mode \n",
    "    \n",
    "    \n",
    "    ''' FC 1 '''\n",
    "    fc1 = prune_inputs(fc1, pruned_indices)\n",
    "    \n",
    "    num_inputs = num_outputs * kernel_size * kernel_size\n",
    "    num_outputs, new_weights, new_biases, pruned_indices = prune_nodes(fc1)\n",
    "    \n",
    "    fc1_c = nn.Linear(num_inputs, num_outputs)\n",
    "    fc1_c.weight.data = new_weights\n",
    "    fc1_c.bias.data   = new_biases\n",
    "\n",
    "    \n",
    "    \n",
    "    ''' FC2'''\n",
    "    num_inputs = num_outputs\n",
    "    fc2_p = prune_inputs(fc2, pruned_indices)\n",
    "    \n",
    "    num_outputs, new_weights, new_biases, pruned_indices = prune_nodes(fc2_p)\n",
    "    \n",
    "    fc2_c = nn.Linear(num_inputs, num_outputs)\n",
    "    fc2_c.weight.data = new_weights\n",
    "    fc2_c.bias.data   = new_biases\n",
    "    \n",
    "    \n",
    "    \n",
    "    ''' FC3 '''\n",
    "    num_inputs = num_outputs\n",
    "    fc3_p = prune_inputs(fc3, pruned_indices)\n",
    "    \n",
    "    num_outputs, new_weights, new_biases, pruned_indices = prune_nodes(fc3_p)\n",
    "    \n",
    "    fc3_c = nn.Linear(num_inputs, num_outputs)\n",
    "    fc3_c.weight.data = new_weights\n",
    "    fc3_c.bias.data   = new_biases\n",
    "    \n",
    "    \n",
    "    model_compressed = LeNet2(conv1, conv2, fc1, fc2, fc3)\n",
    "\n",
    "    return model_compressed\n",
    "\n",
    "model_c = prune_lenet(model)\n",
    "\n"
   ]
  },
  {
   "cell_type": "markdown",
   "metadata": {
    "heading_collapsed": true
   },
   "source": [
    "## Benchmarking Inference Time: After Pruning"
   ]
  },
  {
   "cell_type": "code",
   "execution_count": 84,
   "metadata": {
    "ExecuteTime": {
     "end_time": "2017-12-11T15:04:13.830598Z",
     "start_time": "2017-12-11T15:04:13.749342Z"
    },
    "hidden": true
   },
   "outputs": [
    {
     "ename": "RuntimeError",
     "evalue": "Expected object of type Variable[torch.FloatTensor] but found type Variable[torch.DoubleTensor] for argument #2 'mat2'",
     "output_type": "error",
     "traceback": [
      "\u001b[0;31m---------------------------------------------------------------------------\u001b[0m",
      "\u001b[0;31mRuntimeError\u001b[0m                              Traceback (most recent call last)",
      "\u001b[0;32m<ipython-input-84-e3e54494ad62>\u001b[0m in \u001b[0;36m<module>\u001b[0;34m()\u001b[0m\n\u001b[0;32m----> 1\u001b[0;31m \u001b[0mtest\u001b[0m\u001b[0;34m(\u001b[0m\u001b[0mmodel_name\u001b[0m\u001b[0;34m,\u001b[0m \u001b[0mmodel\u001b[0m\u001b[0;34m)\u001b[0m\u001b[0;34m\u001b[0m\u001b[0m\n\u001b[0m",
      "\u001b[0;32m<ipython-input-62-54dcad6fbcec>\u001b[0m in \u001b[0;36mtest\u001b[0;34m(model_name, model)\u001b[0m\n\u001b[1;32m     71\u001b[0m             \u001b[0minputs\u001b[0m\u001b[0;34m,\u001b[0m \u001b[0mtargets\u001b[0m \u001b[0;34m=\u001b[0m \u001b[0minputs\u001b[0m\u001b[0;34m.\u001b[0m\u001b[0mcuda\u001b[0m\u001b[0;34m(\u001b[0m\u001b[0;34m)\u001b[0m\u001b[0;34m,\u001b[0m \u001b[0mtargets\u001b[0m\u001b[0;34m.\u001b[0m\u001b[0mcuda\u001b[0m\u001b[0;34m(\u001b[0m\u001b[0;34m)\u001b[0m\u001b[0;34m\u001b[0m\u001b[0m\n\u001b[1;32m     72\u001b[0m         \u001b[0minputs\u001b[0m\u001b[0;34m,\u001b[0m \u001b[0mtargets\u001b[0m \u001b[0;34m=\u001b[0m \u001b[0mVariable\u001b[0m\u001b[0;34m(\u001b[0m\u001b[0minputs\u001b[0m\u001b[0;34m,\u001b[0m \u001b[0mvolatile\u001b[0m\u001b[0;34m=\u001b[0m\u001b[0;32mTrue\u001b[0m\u001b[0;34m)\u001b[0m\u001b[0;34m,\u001b[0m \u001b[0mVariable\u001b[0m\u001b[0;34m(\u001b[0m\u001b[0mtargets\u001b[0m\u001b[0;34m)\u001b[0m\u001b[0;34m\u001b[0m\u001b[0m\n\u001b[0;32m---> 73\u001b[0;31m         \u001b[0moutputs\u001b[0m \u001b[0;34m=\u001b[0m \u001b[0mmodel\u001b[0m\u001b[0;34m(\u001b[0m\u001b[0minputs\u001b[0m\u001b[0;34m)\u001b[0m\u001b[0;34m\u001b[0m\u001b[0m\n\u001b[0m\u001b[1;32m     74\u001b[0m         \u001b[0mloss\u001b[0m \u001b[0;34m=\u001b[0m \u001b[0mcriterion\u001b[0m\u001b[0;34m(\u001b[0m\u001b[0moutputs\u001b[0m\u001b[0;34m,\u001b[0m \u001b[0mtargets\u001b[0m\u001b[0;34m)\u001b[0m\u001b[0;34m\u001b[0m\u001b[0m\n\u001b[1;32m     75\u001b[0m \u001b[0;34m\u001b[0m\u001b[0m\n",
      "\u001b[0;32m~/miniconda3/envs/mlp/lib/python3.6/site-packages/torch/nn/modules/module.py\u001b[0m in \u001b[0;36m__call__\u001b[0;34m(self, *input, **kwargs)\u001b[0m\n\u001b[1;32m    323\u001b[0m         \u001b[0;32mfor\u001b[0m \u001b[0mhook\u001b[0m \u001b[0;32min\u001b[0m \u001b[0mself\u001b[0m\u001b[0;34m.\u001b[0m\u001b[0m_forward_pre_hooks\u001b[0m\u001b[0;34m.\u001b[0m\u001b[0mvalues\u001b[0m\u001b[0;34m(\u001b[0m\u001b[0;34m)\u001b[0m\u001b[0;34m:\u001b[0m\u001b[0;34m\u001b[0m\u001b[0m\n\u001b[1;32m    324\u001b[0m             \u001b[0mhook\u001b[0m\u001b[0;34m(\u001b[0m\u001b[0mself\u001b[0m\u001b[0;34m,\u001b[0m \u001b[0minput\u001b[0m\u001b[0;34m)\u001b[0m\u001b[0;34m\u001b[0m\u001b[0m\n\u001b[0;32m--> 325\u001b[0;31m         \u001b[0mresult\u001b[0m \u001b[0;34m=\u001b[0m \u001b[0mself\u001b[0m\u001b[0;34m.\u001b[0m\u001b[0mforward\u001b[0m\u001b[0;34m(\u001b[0m\u001b[0;34m*\u001b[0m\u001b[0minput\u001b[0m\u001b[0;34m,\u001b[0m \u001b[0;34m**\u001b[0m\u001b[0mkwargs\u001b[0m\u001b[0;34m)\u001b[0m\u001b[0;34m\u001b[0m\u001b[0m\n\u001b[0m\u001b[1;32m    326\u001b[0m         \u001b[0;32mfor\u001b[0m \u001b[0mhook\u001b[0m \u001b[0;32min\u001b[0m \u001b[0mself\u001b[0m\u001b[0;34m.\u001b[0m\u001b[0m_forward_hooks\u001b[0m\u001b[0;34m.\u001b[0m\u001b[0mvalues\u001b[0m\u001b[0;34m(\u001b[0m\u001b[0;34m)\u001b[0m\u001b[0;34m:\u001b[0m\u001b[0;34m\u001b[0m\u001b[0m\n\u001b[1;32m    327\u001b[0m             \u001b[0mhook_result\u001b[0m \u001b[0;34m=\u001b[0m \u001b[0mhook\u001b[0m\u001b[0;34m(\u001b[0m\u001b[0mself\u001b[0m\u001b[0;34m,\u001b[0m \u001b[0minput\u001b[0m\u001b[0;34m,\u001b[0m \u001b[0mresult\u001b[0m\u001b[0;34m)\u001b[0m\u001b[0;34m\u001b[0m\u001b[0m\n",
      "\u001b[0;32m<ipython-input-1-f051ae5f3c3c>\u001b[0m in \u001b[0;36mforward\u001b[0;34m(self, x)\u001b[0m\n\u001b[1;32m     19\u001b[0m         \u001b[0mout\u001b[0m \u001b[0;34m=\u001b[0m \u001b[0mF\u001b[0m\u001b[0;34m.\u001b[0m\u001b[0mmax_pool2d\u001b[0m\u001b[0;34m(\u001b[0m\u001b[0mout\u001b[0m\u001b[0;34m,\u001b[0m \u001b[0;36m2\u001b[0m\u001b[0;34m)\u001b[0m\u001b[0;34m\u001b[0m\u001b[0m\n\u001b[1;32m     20\u001b[0m         \u001b[0mout\u001b[0m \u001b[0;34m=\u001b[0m \u001b[0mout\u001b[0m\u001b[0;34m.\u001b[0m\u001b[0mview\u001b[0m\u001b[0;34m(\u001b[0m\u001b[0mout\u001b[0m\u001b[0;34m.\u001b[0m\u001b[0msize\u001b[0m\u001b[0;34m(\u001b[0m\u001b[0;36m0\u001b[0m\u001b[0;34m)\u001b[0m\u001b[0;34m,\u001b[0m \u001b[0;34m-\u001b[0m\u001b[0;36m1\u001b[0m\u001b[0;34m)\u001b[0m\u001b[0;34m\u001b[0m\u001b[0m\n\u001b[0;32m---> 21\u001b[0;31m         \u001b[0mout\u001b[0m \u001b[0;34m=\u001b[0m \u001b[0mF\u001b[0m\u001b[0;34m.\u001b[0m\u001b[0mrelu\u001b[0m\u001b[0;34m(\u001b[0m\u001b[0mself\u001b[0m\u001b[0;34m.\u001b[0m\u001b[0mfc1\u001b[0m\u001b[0;34m(\u001b[0m\u001b[0mout\u001b[0m\u001b[0;34m)\u001b[0m\u001b[0;34m)\u001b[0m\u001b[0;34m\u001b[0m\u001b[0m\n\u001b[0m\u001b[1;32m     22\u001b[0m         \u001b[0mout\u001b[0m \u001b[0;34m=\u001b[0m \u001b[0mF\u001b[0m\u001b[0;34m.\u001b[0m\u001b[0mrelu\u001b[0m\u001b[0;34m(\u001b[0m\u001b[0mself\u001b[0m\u001b[0;34m.\u001b[0m\u001b[0mfc2\u001b[0m\u001b[0;34m(\u001b[0m\u001b[0mout\u001b[0m\u001b[0;34m)\u001b[0m\u001b[0;34m)\u001b[0m\u001b[0;34m\u001b[0m\u001b[0m\n\u001b[1;32m     23\u001b[0m         \u001b[0mout\u001b[0m \u001b[0;34m=\u001b[0m \u001b[0mself\u001b[0m\u001b[0;34m.\u001b[0m\u001b[0mfc3\u001b[0m\u001b[0;34m(\u001b[0m\u001b[0mout\u001b[0m\u001b[0;34m)\u001b[0m\u001b[0;34m\u001b[0m\u001b[0m\n",
      "\u001b[0;32m~/miniconda3/envs/mlp/lib/python3.6/site-packages/torch/nn/modules/module.py\u001b[0m in \u001b[0;36m__call__\u001b[0;34m(self, *input, **kwargs)\u001b[0m\n\u001b[1;32m    323\u001b[0m         \u001b[0;32mfor\u001b[0m \u001b[0mhook\u001b[0m \u001b[0;32min\u001b[0m \u001b[0mself\u001b[0m\u001b[0;34m.\u001b[0m\u001b[0m_forward_pre_hooks\u001b[0m\u001b[0;34m.\u001b[0m\u001b[0mvalues\u001b[0m\u001b[0;34m(\u001b[0m\u001b[0;34m)\u001b[0m\u001b[0;34m:\u001b[0m\u001b[0;34m\u001b[0m\u001b[0m\n\u001b[1;32m    324\u001b[0m             \u001b[0mhook\u001b[0m\u001b[0;34m(\u001b[0m\u001b[0mself\u001b[0m\u001b[0;34m,\u001b[0m \u001b[0minput\u001b[0m\u001b[0;34m)\u001b[0m\u001b[0;34m\u001b[0m\u001b[0m\n\u001b[0;32m--> 325\u001b[0;31m         \u001b[0mresult\u001b[0m \u001b[0;34m=\u001b[0m \u001b[0mself\u001b[0m\u001b[0;34m.\u001b[0m\u001b[0mforward\u001b[0m\u001b[0;34m(\u001b[0m\u001b[0;34m*\u001b[0m\u001b[0minput\u001b[0m\u001b[0;34m,\u001b[0m \u001b[0;34m**\u001b[0m\u001b[0mkwargs\u001b[0m\u001b[0;34m)\u001b[0m\u001b[0;34m\u001b[0m\u001b[0m\n\u001b[0m\u001b[1;32m    326\u001b[0m         \u001b[0;32mfor\u001b[0m \u001b[0mhook\u001b[0m \u001b[0;32min\u001b[0m \u001b[0mself\u001b[0m\u001b[0;34m.\u001b[0m\u001b[0m_forward_hooks\u001b[0m\u001b[0;34m.\u001b[0m\u001b[0mvalues\u001b[0m\u001b[0;34m(\u001b[0m\u001b[0;34m)\u001b[0m\u001b[0;34m:\u001b[0m\u001b[0;34m\u001b[0m\u001b[0m\n\u001b[1;32m    327\u001b[0m             \u001b[0mhook_result\u001b[0m \u001b[0;34m=\u001b[0m \u001b[0mhook\u001b[0m\u001b[0;34m(\u001b[0m\u001b[0mself\u001b[0m\u001b[0;34m,\u001b[0m \u001b[0minput\u001b[0m\u001b[0;34m,\u001b[0m \u001b[0mresult\u001b[0m\u001b[0;34m)\u001b[0m\u001b[0;34m\u001b[0m\u001b[0m\n",
      "\u001b[0;32m~/miniconda3/envs/mlp/lib/python3.6/site-packages/torch/nn/modules/linear.py\u001b[0m in \u001b[0;36mforward\u001b[0;34m(self, input)\u001b[0m\n\u001b[1;32m     53\u001b[0m \u001b[0;34m\u001b[0m\u001b[0m\n\u001b[1;32m     54\u001b[0m     \u001b[0;32mdef\u001b[0m \u001b[0mforward\u001b[0m\u001b[0;34m(\u001b[0m\u001b[0mself\u001b[0m\u001b[0;34m,\u001b[0m \u001b[0minput\u001b[0m\u001b[0;34m)\u001b[0m\u001b[0;34m:\u001b[0m\u001b[0;34m\u001b[0m\u001b[0m\n\u001b[0;32m---> 55\u001b[0;31m         \u001b[0;32mreturn\u001b[0m \u001b[0mF\u001b[0m\u001b[0;34m.\u001b[0m\u001b[0mlinear\u001b[0m\u001b[0;34m(\u001b[0m\u001b[0minput\u001b[0m\u001b[0;34m,\u001b[0m \u001b[0mself\u001b[0m\u001b[0;34m.\u001b[0m\u001b[0mweight\u001b[0m\u001b[0;34m,\u001b[0m \u001b[0mself\u001b[0m\u001b[0;34m.\u001b[0m\u001b[0mbias\u001b[0m\u001b[0;34m)\u001b[0m\u001b[0;34m\u001b[0m\u001b[0m\n\u001b[0m\u001b[1;32m     56\u001b[0m \u001b[0;34m\u001b[0m\u001b[0m\n\u001b[1;32m     57\u001b[0m     \u001b[0;32mdef\u001b[0m \u001b[0m__repr__\u001b[0m\u001b[0;34m(\u001b[0m\u001b[0mself\u001b[0m\u001b[0;34m)\u001b[0m\u001b[0;34m:\u001b[0m\u001b[0;34m\u001b[0m\u001b[0m\n",
      "\u001b[0;32m~/miniconda3/envs/mlp/lib/python3.6/site-packages/torch/nn/functional.py\u001b[0m in \u001b[0;36mlinear\u001b[0;34m(input, weight, bias)\u001b[0m\n\u001b[1;32m    883\u001b[0m     \u001b[0;32mif\u001b[0m \u001b[0minput\u001b[0m\u001b[0;34m.\u001b[0m\u001b[0mdim\u001b[0m\u001b[0;34m(\u001b[0m\u001b[0;34m)\u001b[0m \u001b[0;34m==\u001b[0m \u001b[0;36m2\u001b[0m \u001b[0;32mand\u001b[0m \u001b[0mbias\u001b[0m \u001b[0;32mis\u001b[0m \u001b[0;32mnot\u001b[0m \u001b[0;32mNone\u001b[0m\u001b[0;34m:\u001b[0m\u001b[0;34m\u001b[0m\u001b[0m\n\u001b[1;32m    884\u001b[0m         \u001b[0;31m# fused op is marginally faster\u001b[0m\u001b[0;34m\u001b[0m\u001b[0;34m\u001b[0m\u001b[0m\n\u001b[0;32m--> 885\u001b[0;31m         \u001b[0;32mreturn\u001b[0m \u001b[0mtorch\u001b[0m\u001b[0;34m.\u001b[0m\u001b[0maddmm\u001b[0m\u001b[0;34m(\u001b[0m\u001b[0mbias\u001b[0m\u001b[0;34m,\u001b[0m \u001b[0minput\u001b[0m\u001b[0;34m,\u001b[0m \u001b[0mweight\u001b[0m\u001b[0;34m.\u001b[0m\u001b[0mt\u001b[0m\u001b[0;34m(\u001b[0m\u001b[0;34m)\u001b[0m\u001b[0;34m)\u001b[0m\u001b[0;34m\u001b[0m\u001b[0m\n\u001b[0m\u001b[1;32m    886\u001b[0m \u001b[0;34m\u001b[0m\u001b[0m\n\u001b[1;32m    887\u001b[0m     \u001b[0moutput\u001b[0m \u001b[0;34m=\u001b[0m \u001b[0minput\u001b[0m\u001b[0;34m.\u001b[0m\u001b[0mmatmul\u001b[0m\u001b[0;34m(\u001b[0m\u001b[0mweight\u001b[0m\u001b[0;34m.\u001b[0m\u001b[0mt\u001b[0m\u001b[0;34m(\u001b[0m\u001b[0;34m)\u001b[0m\u001b[0;34m)\u001b[0m\u001b[0;34m\u001b[0m\u001b[0m\n",
      "\u001b[0;31mRuntimeError\u001b[0m: Expected object of type Variable[torch.FloatTensor] but found type Variable[torch.DoubleTensor] for argument #2 'mat2'"
     ]
    }
   ],
   "source": [
    "test(model_name, model)"
   ]
  },
  {
   "cell_type": "markdown",
   "metadata": {
    "heading_collapsed": true
   },
   "source": [
    "## Testing pruning functions"
   ]
  },
  {
   "cell_type": "code",
   "execution_count": 24,
   "metadata": {
    "ExecuteTime": {
     "end_time": "2017-12-11T10:22:00.122995Z",
     "start_time": "2017-12-11T10:21:59.949416Z"
    },
    "hidden": true,
    "scrolled": true
   },
   "outputs": [
    {
     "name": "stdout",
     "output_type": "stream",
     "text": [
      "before sparsity:  Parameter containing:\n",
      "-0.4879  0.1438\n",
      " 0.4580  0.5961\n",
      " 0.0030 -0.5928\n",
      "[torch.FloatTensor of size 3x2]\n",
      " \n",
      "\n",
      "before sparsity:  Parameter containing:\n",
      "-0.6406\n",
      "-0.3254\n",
      "-0.5649\n",
      "[torch.FloatTensor of size 3]\n",
      " \n",
      "\n",
      "\n",
      "\n",
      "\n",
      "\n",
      "\n",
      "\n",
      "after sparsity:  Parameter containing:\n",
      "-0.0000  0.0000\n",
      " 0.0000  0.5961\n",
      " 0.0000 -0.5928\n",
      "[torch.FloatTensor of size 3x2]\n",
      " \n",
      "\n",
      "after sparsity:  Parameter containing:\n",
      "-0.6406\n",
      "-0.3254\n",
      "-0.5649\n",
      "[torch.FloatTensor of size 3]\n",
      " \n",
      "\n",
      "\n",
      "\n",
      "\n",
      "\n",
      "\n",
      "\n",
      "after pruning:   \n",
      " 0.0000  0.5961\n",
      " 0.0000 -0.5928\n",
      "[torch.FloatTensor of size 2x2]\n",
      " \n",
      "\n",
      "after pruning:   \n",
      "-0.3254\n",
      "-0.5649\n",
      "[torch.DoubleTensor of size 2]\n",
      "\n",
      "num outputs:     2\n",
      "pruned_ind:      [0] \n",
      "\n",
      "\n",
      "\n",
      "\n",
      "\n",
      "\n",
      "\n",
      "after pruning:   Parameter containing:\n",
      " 0.0000\n",
      " 0.5961\n",
      "-0.5928\n",
      "[torch.DoubleTensor of size 3x1]\n",
      " \n",
      "\n",
      "after pruning:   Parameter containing:\n",
      "-0.6406\n",
      "-0.3254\n",
      "-0.5649\n",
      "[torch.FloatTensor of size 3]\n",
      " \n",
      "\n",
      "\n",
      "\n",
      "\n",
      "\n",
      "\n",
      "\n"
     ]
    }
   ],
   "source": [
    "def sparsify(layer, threshold=0.5):\n",
    "    layer.weight.data = (layer.weight * torch.gt(torch.abs(layer.weight), threshold).float()).data\n",
    "    return layer\n",
    "\n",
    "\n",
    "fc1 = nn.Linear(2, 3)\n",
    "\n",
    "print('before sparsity: ', fc1.weight, '\\n')\n",
    "print('before sparsity: ', fc1.bias, '\\n\\n\\n\\n\\n\\n\\n')\n",
    "\n",
    "fc1_ = sparsify(fc1)\n",
    "    \n",
    "print('after sparsity: ', fc1_.weight, '\\n')\n",
    "print('after sparsity: ', fc1_.bias, '\\n\\n\\n\\n\\n\\n\\n')\n",
    "\n",
    "\n",
    "num_outputs, new_weights, new_bias, pruned_ind = prune_nodes(fc1)\n",
    "\n",
    "print('after pruning:  ', new_weights, '\\n')\n",
    "print('after pruning:  ', new_bias)\n",
    "print('num outputs:    ', num_outputs)\n",
    "print('pruned_ind:     ', pruned_ind, '\\n\\n\\n\\n\\n\\n\\n')\n",
    "\n",
    "\n",
    "\n",
    "# Now lets test specific index pruning \n",
    "\n",
    "fc2 = prune_inputs(fc1, [0])\n",
    "print('after pruning:  ', fc2.weight, '\\n')\n",
    "print('after pruning:  ', fc2.bias, '\\n\\n\\n\\n\\n\\n\\n')"
   ]
  },
  {
   "cell_type": "markdown",
   "metadata": {
    "hidden": true
   },
   "source": [
    "Cool.  \n",
    "\n",
    "Next challenge is to go back and reconstruct the model after removing nodes.  \n",
    "\n",
    "So in the above example we started with a layer with 2 inputs and 5 outputs (in the gap is full connection):\n",
    "\n",
    "        ________         ________\n",
    "    ----|       |---  ---|       |\n",
    "        |       |---  ---|       |---\n",
    "    ----|  fc1  |---  ---|  fc2  |\n",
    "        |       |---  ---|       |---\n",
    "    ----|_______|---  ---|_______|\n",
    "                 \n",
    "\n",
    "And we pruned e.g. 2 of those outputs leaving us with:\n",
    "\n",
    "        ________          _______\n",
    "    ----|       |---  ---|       |\n",
    "        |       |     ---|       |---\n",
    "    ----|  fc1  |---  ---|  fc2  |\n",
    "        |       |     ---|       |---\n",
    "    ----|_______|---  ---|_______|\n",
    "                 \n",
    "\n",
    "Since we obviously don't want to prune the outgoing connections of the output layer, we need to keep track of which connections to get rid of by indexing. \n",
    "\n",
    "\n",
    "\n",
    "    Layer 1:\n",
    "    \n",
    "    [ [w1, w2, w3], \n",
    "      [w1, w2, w3],\n",
    "      [w1, w2, w3],\n",
    "      [w1, w2, w3],\n",
    "      [w1, w2, w3], ] \n",
    "      \n",
    "    Layer 2: \n",
    "    \n",
    "    [ [w1, w2, w3, w4, w5], \n",
    "      [w1, w2, w3, w4, w5], ] \n",
    "      \n",
    "      \n",
    "So if we pruned the first neuron from layer 1, we'd end up with:\n",
    "\n",
    "    Layer 1:\n",
    "    \n",
    "    [ [w1, w2, w3],\n",
    "      [w1, w2, w3],\n",
    "      [w1, w2, w3],\n",
    "      [w1, w2, w3], ] \n",
    "      \n",
    "    Layer 2: \n",
    "    \n",
    "    [ [w2, w3, w4, w5], \n",
    "      [w2, w3, w4, w5], ]  <-- same number of neurons, less inputs per neuron. \n",
    "      \n",
    "\n",
    "      "
   ]
  },
  {
   "cell_type": "markdown",
   "metadata": {
    "heading_collapsed": true
   },
   "source": [
    "## Pruning Nodes from TinyNet"
   ]
  },
  {
   "cell_type": "code",
   "execution_count": 52,
   "metadata": {
    "ExecuteTime": {
     "end_time": "2017-12-11T10:46:17.821544Z",
     "start_time": "2017-12-11T10:46:17.677071Z"
    },
    "hidden": true,
    "scrolled": true
   },
   "outputs": [
    {
     "name": "stdout",
     "output_type": "stream",
     "text": [
      "fc1.weight Parameter containing:\n",
      " 0.3998  0.1194\n",
      " 0.5319 -0.0160\n",
      " 0.3876 -0.2933\n",
      "-0.2642 -0.7036\n",
      " 0.0080  0.6176\n",
      "[torch.FloatTensor of size 5x2]\n",
      "\n",
      "fc1.bias Parameter containing:\n",
      " 0.6179\n",
      " 0.4336\n",
      " 0.3643\n",
      " 0.0127\n",
      " 0.1899\n",
      "[torch.FloatTensor of size 5]\n",
      "\n",
      "fc2.weight Parameter containing:\n",
      "-0.1410  0.3325 -0.0260  0.3820  0.4088\n",
      "-0.1607  0.2645 -0.3538  0.3459 -0.0899\n",
      " 0.2599  0.2379 -0.1240 -0.1947  0.2644\n",
      "[torch.FloatTensor of size 3x5]\n",
      "\n",
      "fc2.bias Parameter containing:\n",
      "-0.0766\n",
      "-0.1567\n",
      " 0.2075\n",
      "[torch.FloatTensor of size 3]\n",
      "\n",
      "========\n",
      "\n",
      "\n",
      "\n",
      "\n",
      "\n",
      " after pruning\n",
      "=========\n",
      "fc1.weight Parameter containing:\n",
      " 0.5319 -0.0000\n",
      "-0.0000 -0.7036\n",
      " 0.0000  0.6176\n",
      "[torch.FloatTensor of size 3x2]\n",
      "\n",
      "fc1.bias Parameter containing:\n",
      " 0.4336\n",
      " 0.0127\n",
      " 0.1899\n",
      "[torch.DoubleTensor of size 3]\n",
      "\n",
      "fc2.weight Parameter containing:\n",
      " 0.0000  0.0000  0.4088\n",
      " 0.0000  0.0000 -0.0000\n",
      " 0.0000 -0.0000  0.0000\n",
      "[torch.DoubleTensor of size 3x3]\n",
      "\n",
      "fc2.bias Parameter containing:\n",
      "-0.0766\n",
      "-0.1567\n",
      " 0.2075\n",
      "[torch.FloatTensor of size 3]\n",
      "\n"
     ]
    }
   ],
   "source": [
    "class TinyNet(nn.Module):\n",
    "    def __init__(self):\n",
    "        super(TinyNet, self).__init__()\n",
    "        self.fc1   = nn.Linear(2, 5)\n",
    "        self.fc2   = nn.Linear(5, 3)\n",
    "\n",
    "    def forward(self, x):\n",
    "        out = F.relu(self.fc1(out))\n",
    "        out = self.fc2(out)\n",
    "        return out\n",
    "\n",
    "\n",
    "model = TinyNet()\n",
    "\n",
    "model = sparsify(model)\n",
    "\n",
    "\n",
    "num_inputs = 2\n",
    "\n",
    "# pytorch initialise layer with predefined weight tensors \n",
    "\n",
    "fc1 = get_layer(1, model)\n",
    "fc2 = get_layer(2, model)\n",
    "\n",
    "num_outputs, new_weights, new_biases, pruned_indices = prune_nodes(fc1)\n",
    "\n",
    "fc1_c = nn.Linear(num_inputs, num_outputs)\n",
    "fc1_c.weight.data = new_weights\n",
    "fc1_c.bias.data   = new_biases\n",
    "\n",
    "\n",
    "fc2_p = prune_inputs(fc2, pruned_indices)\n",
    "\n",
    "num_inputs  = num_outputs\n",
    "num_outputs = 3\n",
    "\n",
    "fc2_c = nn.Linear(num_inputs, num_outputs)\n",
    "fc2_c.weight.data = fc2_p.weight.data\n",
    "fc2_c.bias.data   = fc2_p.bias.data\n",
    "\n",
    "\n",
    "\n",
    "class TinyNet2(nn.Module):\n",
    "    def __init__(self, fc1, fc2):\n",
    "        super(TinyNet2, self).__init__()\n",
    "        self.fc1   = fc1\n",
    "        self.fc2   = fc2\n",
    "\n",
    "    def forward(self, x):\n",
    "        out = F.relu(self.fc1(out))\n",
    "        out = self.fc2(out)\n",
    "        return out\n",
    "    \n",
    "\n",
    "model = TinyNet2(fc1_c, fc2_c)\n"
   ]
  },
  {
   "cell_type": "markdown",
   "metadata": {
    "collapsed": true,
    "heading_collapsed": true
   },
   "source": [
    "## Automating the model reconstruction"
   ]
  },
  {
   "cell_type": "markdown",
   "metadata": {
    "hidden": true
   },
   "source": [
    "It would be nice not to have to manually write out 'prune this layer, reconstruct this model' etc.\n",
    "\n",
    "Is there a way to iteratively add layers to a list, and then construct a model from the list of layers? Since the topology is the same (just the number of hidden units has changed), we should be able to apply the same `forward` function to the model. \n",
    "\n",
    "\n"
   ]
  },
  {
   "cell_type": "code",
   "execution_count": null,
   "metadata": {
    "hidden": true
   },
   "outputs": [],
   "source": [
    "fc1 = get_layer(1, model)\n",
    "fc2 = get_layer(2, model)\n",
    "\n",
    "num_outputs, new_weights, new_biases, pruned_indices = prune_nodes(fc1)\n",
    "\n",
    "fc1_c = nn.Linear(num_inputs, num_outputs)\n",
    "fc1_c.weight.data = new_weights\n",
    "fc1_c.bias.data   = new_biases\n",
    "\n",
    "\n",
    "fc2_p = prune_inputs(fc2, pruned_indices)\n",
    "\n",
    "num_inputs  = num_outputs\n",
    "num_outputs = 3\n",
    "\n",
    "fc2_c = nn.Linear(num_inputs, num_outputs)\n",
    "fc2_c.weight.data = fc2_p.weight.data\n",
    "fc2_c.bias.data   = fc2_p.bias.data\n",
    "\n",
    "\n",
    "\n",
    "class TinyNet2(nn.Module):\n",
    "    def __init__(self, fc1, fc2):\n",
    "        super(TinyNet2, self).__init__()\n",
    "        self.fc1   = fc1\n",
    "        self.fc2   = fc2\n",
    "\n",
    "    def forward(self, x):\n",
    "        out = F.relu(self.fc1(out))\n",
    "        out = self.fc2(out)\n",
    "        return out\n",
    "    \n",
    "\n",
    "model = TinyNet2(fc1_c, fc2_c)\n",
    "\n",
    "\n",
    "\n",
    "# don't prune the first layer\n",
    "num_inputs = num_outputs from first layer\n",
    "\n",
    "for idx, layer in model:\n",
    "    \n",
    "    if isinstance(layer, nn.Linear):\n",
    "        layer_c = nn.Linear()"
   ]
  }
 ],
 "metadata": {
  "kernelspec": {
   "display_name": "Python 3",
   "language": "python",
   "name": "python3"
  },
  "language_info": {
   "codemirror_mode": {
    "name": "ipython",
    "version": 3
   },
   "file_extension": ".py",
   "mimetype": "text/x-python",
   "name": "python",
   "nbconvert_exporter": "python",
   "pygments_lexer": "ipython3",
   "version": "3.6.3"
  }
 },
 "nbformat": 4,
 "nbformat_minor": 2
}
